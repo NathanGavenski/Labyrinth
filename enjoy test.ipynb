{
 "cells": [
  {
   "cell_type": "code",
   "execution_count": 1,
   "id": "61b1456b-9536-40fc-843b-504b8321cd23",
   "metadata": {},
   "outputs": [
    {
     "name": "stderr",
     "output_type": "stream",
     "text": [
      "/home/nathan/anaconda3/envs/maze/lib/python3.10/site-packages/tqdm/auto.py:21: TqdmWarning: IProgress not found. Please update jupyter and ipywidgets. See https://ipywidgets.readthedocs.io/en/stable/user_install.html\n",
      "  from .autonotebook import tqdm as notebook_tqdm\n"
     ]
    }
   ],
   "source": [
    "from collections import defaultdict\n",
    "from os import listdir\n",
    "from os.path import isfile, join\n",
    "from functools import partial\n",
    "import types\n",
    "import gym\n",
    "from src import maze\n",
    "import torch\n",
    "from torchvision import transforms\n",
    "from benchmark.methods import BC\n",
    "import time\n",
    "import numpy as np\n",
    "from PIL import Image\n",
    "from tqdm import tqdm"
   ]
  },
  {
   "cell_type": "code",
   "execution_count": 2,
   "id": "3dd0a578-b1a1-401e-b30a-60474d889f4b",
   "metadata": {},
   "outputs": [
    {
     "name": "stderr",
     "output_type": "stream",
     "text": [
      "Creating dataset: 100%|█████████████████████████████████████████| 100/100 [00:00<00:00, 15928.54it/s]\n"
     ]
    }
   ],
   "source": [
    "from imitation_datasets.dataset import BaselineDataset\n",
    "\n",
    "dataset = BaselineDataset(\n",
    "    \"NathanGavenski/imagetest\",\n",
    "    source=\"hf\",\n",
    "    hf_split=\"shortest_route\",\n",
    "    transform=transforms.Resize(64)\n",
    ")\n"
   ]
  },
  {
   "cell_type": "code",
   "execution_count": 3,
   "id": "3f011f31-b313-45d7-a934-e8f3c98baf94",
   "metadata": {},
   "outputs": [
    {
     "data": {
      "text/plain": [
       "(torch.Size([1210, 1]), (1210, 1))"
      ]
     },
     "execution_count": 3,
     "metadata": {},
     "output_type": "execute_result"
    }
   ],
   "source": [
    "dataset.actions.shape, dataset.states.shape"
   ]
  },
  {
   "cell_type": "code",
   "execution_count": 4,
   "id": "5300494d-da69-42ad-a240-dbd2613e2b20",
   "metadata": {},
   "outputs": [],
   "source": [
    "new_state = dataset.states.repeat(10).reshape(-1, 1)\n",
    "new_next_states = dataset.next_states.repeat(10)\n",
    "actions = torch.from_numpy(dataset.actions.numpy().repeat(10)).view((-1, 1))"
   ]
  },
  {
   "cell_type": "code",
   "execution_count": 61,
   "id": "48649771-70db-4d71-a433-86a8a434280b",
   "metadata": {},
   "outputs": [
    {
     "data": {
      "text/plain": [
       "array(['/home/nathan/.cache/huggingface/datasets/downloads/extracted/42e5534c8a7bc4fea430f96b2125d590aff88aa689dfde0c000933de111d2e8d/images/0.jpg'],\n",
       "      dtype='<U141')"
      ]
     },
     "execution_count": 61,
     "metadata": {},
     "output_type": "execute_result"
    }
   ],
   "source": [
    "new_state[0]"
   ]
  },
  {
   "cell_type": "code",
   "execution_count": 62,
   "id": "7a7976d3-ec0f-470b-b489-ad404331dee6",
   "metadata": {},
   "outputs": [
    {
     "data": {
      "text/plain": [
       "array(['/home/nathan/.cache/huggingface/datasets/downloads/extracted/42e5534c8a7bc4fea430f96b2125d590aff88aa689dfde0c000933de111d2e8d/images/0.jpg'],\n",
       "      dtype='<U141')"
      ]
     },
     "execution_count": 62,
     "metadata": {},
     "output_type": "execute_result"
    }
   ],
   "source": [
    "dataset.states[0]"
   ]
  },
  {
   "cell_type": "code",
   "execution_count": null,
   "id": "8af17aee-34f0-4018-9e4d-c908f05a81ac",
   "metadata": {},
   "outputs": [],
   "source": []
  },
  {
   "cell_type": "code",
   "execution_count": null,
   "id": "ab9759ad-a2c3-4138-a969-2352fbbf7055",
   "metadata": {},
   "outputs": [],
   "source": []
  },
  {
   "cell_type": "code",
   "execution_count": 5,
   "id": "6d2ff0d9-6ca6-482d-8d20-1d8c061d77db",
   "metadata": {},
   "outputs": [],
   "source": [
    "def enjoy(self, maze_paths, maze_settings, transforms):\n",
    "    metrics = defaultdict(int)\n",
    "    solutions = defaultdict(list)\n",
    "\n",
    "    for maze_type in [\"train\", \"eval\"]:\n",
    "        path = f\"{maze_paths}/{maze_type}\"\n",
    "        structures = [join(path, f) for f in listdir(path) if isfile(join(path, f))]\n",
    "\n",
    "        average_reward = []\n",
    "        success_rate = []\n",
    "\n",
    "        if self.verbose:\n",
    "            structures = tqdm(structures, desc=f\"eval with {maze_type}\")\n",
    "        for structure in structures:\n",
    "            env = gym.make(\"Maze-v0\", **maze_settings)\n",
    "            done = False\n",
    "\n",
    "            try:\n",
    "                obs = env.load(structure)\n",
    "                accumulated_reward = 0\n",
    "                early_stop_count = defaultdict(int)\n",
    "                while not done:\n",
    "                    action = self.predict(obs, transforms)\n",
    "                    obs, reward, done, _ = env.step(action)\n",
    "                    accumulated_reward += reward\n",
    "                    early_stop_count[tuple(obs.flatten().tolist())] += 1\n",
    "\n",
    "                    if np.max(list(early_stop_count.values())) >= 5:\n",
    "                        step_reward = -.1 / (env.shape[0] * env.shape[1])\n",
    "                        lower_reward = env.max_episode_steps * step_reward\n",
    "                        accumulated_reward = lower_reward\n",
    "                        break\n",
    "\n",
    "                if done:\n",
    "                    solutions[maze_type].append(structure)\n",
    "\n",
    "            finally:\n",
    "                env.close()\n",
    "\n",
    "            success_rate.append(1 if done else 0)\n",
    "            average_reward.append(accumulated_reward)\n",
    "        metrics[f\"{maze_type} aer\"] = np.mean(average_reward)\n",
    "        metrics[f\"{maze_type} aer (std)\"] = np.std(average_reward)\n",
    "        metrics[f\"{maze_type} sr\"] = np.mean(success_rate)\n",
    "    metrics[\"aer\"] = metrics[\"train sr\"]\n",
    "    return metrics, solutions"
   ]
  },
  {
   "cell_type": "code",
   "execution_count": 6,
   "id": "0a406a65-ef80-44eb-956f-ac372dcb4634",
   "metadata": {},
   "outputs": [
    {
     "name": "stderr",
     "output_type": "stream",
     "text": [
      "/home/nathan/anaconda3/envs/maze/lib/python3.10/site-packages/torchvision/models/_utils.py:208: UserWarning: The parameter 'pretrained' is deprecated since 0.13 and may be removed in the future, please use 'weights' instead.\n",
      "  warnings.warn(\n",
      "/home/nathan/anaconda3/envs/maze/lib/python3.10/site-packages/torchvision/models/_utils.py:223: UserWarning: Arguments other than a weight enum or `None` for 'weights' are deprecated since 0.13 and may be removed in the future. The current behavior is equivalent to passing `weights=None`.\n",
      "  warnings.warn(msg)\n"
     ]
    }
   ],
   "source": [
    "params = {\n",
    "    \"shape\": (5, 5),\n",
    "    # \"screen_width\": 64,\n",
    "    # \"screen_height\": 64,\n",
    "    \"visual\": True,\n",
    "}\n",
    "env = gym.make(\"Maze-v0\", **params)\n",
    "bc = BC(env, config_file=\"./configs/resnet.yaml\")\n",
    "bc.load()\n",
    "\n",
    "transform = transforms.Compose([\n",
    "    transforms.ToTensor(),\n",
    "    transforms.Resize(64),\n",
    "])"
   ]
  },
  {
   "cell_type": "code",
   "execution_count": 7,
   "id": "72b6a5f3-4008-4e01-ba81-5b71fa785786",
   "metadata": {},
   "outputs": [],
   "source": [
    "enjoy = partial(enjoy, maze_paths=\"./src/environment/mazes/mazes5\", maze_settings=params, transforms=transform)\n",
    "bc._enjoy = types.MethodType(enjoy, bc)\n",
    "metrics, solutions = bc._enjoy()"
   ]
  },
  {
   "cell_type": "code",
   "execution_count": 32,
   "id": "781f2dd9-15ed-4f18-9922-7cf60bfce97e",
   "metadata": {},
   "outputs": [
    {
     "name": "stdout",
     "output_type": "stream",
     "text": [
      "(64, 724, 3)\n"
     ]
    }
   ],
   "source": [
    "for key, value in solutions.items():\n",
    "    if key == \"train\":\n",
    "        all_images = None\n",
    "        for structure in value:\n",
    "            image = env.load(structure)\n",
    "            if all_images is None:\n",
    "                all_images = image\n",
    "            else:\n",
    "                border = np.zeros((64, 2, 3)).astype(\"uint8\")\n",
    "                all_images = np.hstack((all_images, border))\n",
    "                all_images = np.hstack((all_images, image))\n",
    "            env.close()\n",
    "        Image.fromarray(all_images).save(\"train.png\")\n",
    "    else:\n",
    "        all_images = None\n",
    "        for structure in value:\n",
    "            image = env.load(structure)\n",
    "            if all_images is None:\n",
    "                all_images = image\n",
    "            else:\n",
    "                border = np.zeros((64, 2, 3)).astype(\"uint8\")\n",
    "                all_images = np.hstack((all_images, border))\n",
    "                all_images = np.hstack((all_images, image))\n",
    "            env.close()\n",
    "        Image.fromarray(all_images).save(\"eval.png\")"
   ]
  },
  {
   "cell_type": "code",
   "execution_count": 25,
   "id": "a5580e33-6003-48b1-8554-08f7b95de227",
   "metadata": {},
   "outputs": [],
   "source": [
    "!xdg-open ."
   ]
  },
  {
   "cell_type": "code",
   "execution_count": null,
   "id": "9eac6958-9c5c-451c-af3b-4be7beee5639",
   "metadata": {},
   "outputs": [],
   "source": []
  },
  {
   "cell_type": "code",
   "execution_count": null,
   "id": "8a39a092-1695-44e6-89de-766eb7751d1b",
   "metadata": {},
   "outputs": [],
   "source": []
  },
  {
   "cell_type": "code",
   "execution_count": null,
   "id": "fdd289e6-8c36-4dcf-9ac2-5ce14991bc7d",
   "metadata": {},
   "outputs": [],
   "source": []
  },
  {
   "cell_type": "code",
   "execution_count": 4,
   "id": "e3641f23-140f-40d1-9e67-9334f08da822",
   "metadata": {},
   "outputs": [
    {
     "name": "stderr",
     "output_type": "stream",
     "text": [
      "/home/nathan/anaconda3/envs/maze/lib/python3.10/site-packages/torchvision/models/_utils.py:208: UserWarning: The parameter 'pretrained' is deprecated since 0.13 and may be removed in the future, please use 'weights' instead.\n",
      "  warnings.warn(\n",
      "/home/nathan/anaconda3/envs/maze/lib/python3.10/site-packages/torchvision/models/_utils.py:223: UserWarning: Arguments other than a weight enum or `None` for 'weights' are deprecated since 0.13 and may be removed in the future. The current behavior is equivalent to passing `weights=None`.\n",
      "  warnings.warn(msg)\n"
     ]
    }
   ],
   "source": [
    "params = {\n",
    "    \"shape\": (5, 5),\n",
    "    \"screen_width\": 600,\n",
    "    \"screen_height\": 600,\n",
    "    \"visual\": True,\n",
    "    \"occlusion\": False\n",
    "}\n",
    "env = gym.make(\"Maze-v0\", **params)\n",
    "bc = BC(env, config_file=\"./configs/att.yaml\")\n",
    "\n",
    "transform = transforms.Compose([\n",
    "    transforms.ToTensor(),\n",
    "    transforms.Resize(64),\n",
    "])"
   ]
  },
  {
   "cell_type": "code",
   "execution_count": 11,
   "id": "70c81a4e-2c3e-460a-8610-aea5d41f76a7",
   "metadata": {},
   "outputs": [
    {
     "name": "stderr",
     "output_type": "stream",
     "text": [
      "  9%|██████▎                                                               | 1/11 [00:12<02:07, 12.73s/it]"
     ]
    },
    {
     "name": "stdout",
     "output_type": "stream",
     "text": [
      "0 tensor(0.5537)\n"
     ]
    },
    {
     "name": "stderr",
     "output_type": "stream",
     "text": [
      " 18%|████████████▋                                                         | 2/11 [00:31<02:23, 16.00s/it]"
     ]
    },
    {
     "name": "stdout",
     "output_type": "stream",
     "text": [
      "10 tensor(0.9620)\n"
     ]
    },
    {
     "name": "stderr",
     "output_type": "stream",
     "text": [
      " 27%|███████████████████                                                   | 3/11 [00:48<02:13, 16.69s/it]"
     ]
    },
    {
     "name": "stdout",
     "output_type": "stream",
     "text": [
      "20 tensor(0.9926)\n"
     ]
    },
    {
     "name": "stderr",
     "output_type": "stream",
     "text": [
      " 36%|█████████████████████████▍                                            | 4/11 [01:06<02:00, 17.20s/it]"
     ]
    },
    {
     "name": "stdout",
     "output_type": "stream",
     "text": [
      "30 tensor(0.9967)\n"
     ]
    },
    {
     "name": "stderr",
     "output_type": "stream",
     "text": [
      " 45%|███████████████████████████████▊                                      | 5/11 [01:24<01:45, 17.55s/it]"
     ]
    },
    {
     "name": "stdout",
     "output_type": "stream",
     "text": [
      "40 tensor(0.9893)\n"
     ]
    },
    {
     "name": "stderr",
     "output_type": "stream",
     "text": [
      " 55%|██████████████████████████████████████▏                               | 6/11 [01:41<01:27, 17.47s/it]"
     ]
    },
    {
     "name": "stdout",
     "output_type": "stream",
     "text": [
      "50 tensor(0.9983)\n"
     ]
    },
    {
     "name": "stderr",
     "output_type": "stream",
     "text": [
      " 64%|████████████████████████████████████████████▌                         | 7/11 [01:59<01:09, 17.34s/it]"
     ]
    },
    {
     "name": "stdout",
     "output_type": "stream",
     "text": [
      "60 tensor(0.9942)\n"
     ]
    },
    {
     "name": "stderr",
     "output_type": "stream",
     "text": [
      " 73%|██████████████████████████████████████████████████▉                   | 8/11 [02:15<00:51, 17.18s/it]"
     ]
    },
    {
     "name": "stdout",
     "output_type": "stream",
     "text": [
      "70 tensor(0.9760)\n"
     ]
    },
    {
     "name": "stderr",
     "output_type": "stream",
     "text": [
      " 82%|█████████████████████████████████████████████████████████▎            | 9/11 [02:32<00:33, 16.94s/it]"
     ]
    },
    {
     "name": "stdout",
     "output_type": "stream",
     "text": [
      "80 tensor(0.9901)\n"
     ]
    },
    {
     "name": "stderr",
     "output_type": "stream",
     "text": [
      " 91%|██████████████████████████████████████████████████████████████▋      | 10/11 [02:49<00:16, 16.91s/it]"
     ]
    },
    {
     "name": "stdout",
     "output_type": "stream",
     "text": [
      "90 tensor(0.9802)\n"
     ]
    },
    {
     "name": "stderr",
     "output_type": "stream",
     "text": [
      "100%|█████████████████████████████████████████████████████████████████████| 11/11 [03:05<00:00, 16.87s/it]"
     ]
    },
    {
     "name": "stdout",
     "output_type": "stream",
     "text": [
      "100 tensor(0.9876)\n"
     ]
    },
    {
     "name": "stderr",
     "output_type": "stream",
     "text": [
      "\n"
     ]
    }
   ],
   "source": [
    "for w in tqdm(range(0, 101, 10)):\n",
    "    bc.load(name=str(w))\n",
    "    bc.policy.train()\n",
    "    with torch.no_grad():\n",
    "        acc = 0\n",
    "        for i in range(len(dataset)):\n",
    "            s, a, ns = dataset[i]\n",
    "            action = torch.argmax(bc.forward(s[None]), dim=1).squeeze()\n",
    "            acc += action == a.squeeze()\n",
    "    print(w, acc / len(dataset))"
   ]
  },
  {
   "cell_type": "code",
   "execution_count": 6,
   "id": "5fa32aaf-ba8c-4f3b-b1dd-cefc64ec8913",
   "metadata": {},
   "outputs": [
    {
     "name": "stdout",
     "output_type": "stream",
     "text": [
      "30 tensor(0.9959)\n"
     ]
    }
   ],
   "source": [
    "bc.load(path=\"./tmp/bc/Maze-att/\", name=str(30))\n",
    "bc.policy.train()\n",
    "with torch.no_grad():\n",
    "    acc = 0\n",
    "    for i in range(len(dataset)):\n",
    "        s, a, ns = dataset[i]\n",
    "        action = torch.argmax(bc.forward(s[None]), dim=1).squeeze()\n",
    "        acc += action == a.squeeze()\n",
    "print(30, acc / len(dataset))"
   ]
  },
  {
   "cell_type": "code",
   "execution_count": 7,
   "id": "9a1cb7bf-0880-4c35-b3ed-50aa23513a83",
   "metadata": {},
   "outputs": [
    {
     "data": {
      "text/plain": [
       "{'shape': (5, 5),\n",
       " 'screen_width': 600,\n",
       " 'screen_height': 600,\n",
       " 'visual': True,\n",
       " 'occlusion': False}"
      ]
     },
     "execution_count": 7,
     "metadata": {},
     "output_type": "execute_result"
    }
   ],
   "source": [
    "maze_paths=\"./src/environment/mazes/mazes5\"\n",
    "maze_settings=params\n",
    "maze_settings"
   ]
  },
  {
   "cell_type": "code",
   "execution_count": 8,
   "id": "cdd4ca80-7ab6-4442-bad4-770fa1d612ba",
   "metadata": {},
   "outputs": [
    {
     "name": "stderr",
     "output_type": "stream",
     "text": [
      "eval with train: 100%|█████████████████████████████████████████████| 100/100 [00:59<00:00,  1.67it/s]\n",
      "eval with eval: 100%|██████████████████████████████████████████████| 100/100 [00:52<00:00,  1.91it/s]\n"
     ]
    },
    {
     "data": {
      "text/plain": [
       "(defaultdict(int,\n",
       "             {'train aer': 0.9555999999999999,\n",
       "              'train aer (std)': 0.014505171491575009,\n",
       "              'train sr': 1.0,\n",
       "              'eval aer': -2.4622,\n",
       "              'eval aer (std)': 2.2942756852653954,\n",
       "              'eval sr': 0.31,\n",
       "              'aer': 1.0}),\n",
       " defaultdict(list,\n",
       "             {'train': ['./src/environment/mazes/mazes5/train/926763516896451710.txt',\n",
       "               './src/environment/mazes/mazes5/train/-4736102849644038576.txt',\n",
       "               './src/environment/mazes/mazes5/train/-4839731022632257933.txt',\n",
       "               './src/environment/mazes/mazes5/train/5576255441120359836.txt',\n",
       "               './src/environment/mazes/mazes5/train/-2810139998966129988.txt',\n",
       "               './src/environment/mazes/mazes5/train/4562321574665168570.txt',\n",
       "               './src/environment/mazes/mazes5/train/-8782880872547250718.txt',\n",
       "               './src/environment/mazes/mazes5/train/-2301343925662862078.txt',\n",
       "               './src/environment/mazes/mazes5/train/-2749838927859803680.txt',\n",
       "               './src/environment/mazes/mazes5/train/3488395401180068712.txt',\n",
       "               './src/environment/mazes/mazes5/train/5368148551496816414.txt',\n",
       "               './src/environment/mazes/mazes5/train/-5715941225707386009.txt',\n",
       "               './src/environment/mazes/mazes5/train/-848589959148370766.txt',\n",
       "               './src/environment/mazes/mazes5/train/5056366283841154434.txt',\n",
       "               './src/environment/mazes/mazes5/train/3230779144726481875.txt',\n",
       "               './src/environment/mazes/mazes5/train/-3397533844934342912.txt',\n",
       "               './src/environment/mazes/mazes5/train/8730497719951060170.txt',\n",
       "               './src/environment/mazes/mazes5/train/-4169240353887028919.txt',\n",
       "               './src/environment/mazes/mazes5/train/8679780676128256367.txt',\n",
       "               './src/environment/mazes/mazes5/train/-7096937368646802182.txt',\n",
       "               './src/environment/mazes/mazes5/train/-3870787146708875961.txt',\n",
       "               './src/environment/mazes/mazes5/train/4064602528470097368.txt',\n",
       "               './src/environment/mazes/mazes5/train/-4043275466093065377.txt',\n",
       "               './src/environment/mazes/mazes5/train/7364525424591129114.txt',\n",
       "               './src/environment/mazes/mazes5/train/1700709551141646573.txt',\n",
       "               './src/environment/mazes/mazes5/train/2924103348206856896.txt',\n",
       "               './src/environment/mazes/mazes5/train/-2853540382225416176.txt',\n",
       "               './src/environment/mazes/mazes5/train/2012293472086863318.txt',\n",
       "               './src/environment/mazes/mazes5/train/5283364916471527478.txt',\n",
       "               './src/environment/mazes/mazes5/train/-7493926892940084202.txt',\n",
       "               './src/environment/mazes/mazes5/train/8016648740419264871.txt',\n",
       "               './src/environment/mazes/mazes5/train/-6347465197739610528.txt',\n",
       "               './src/environment/mazes/mazes5/train/-4751752778481205844.txt',\n",
       "               './src/environment/mazes/mazes5/train/5561917370514584786.txt',\n",
       "               './src/environment/mazes/mazes5/train/8432830599629994628.txt',\n",
       "               './src/environment/mazes/mazes5/train/6188390298861581323.txt',\n",
       "               './src/environment/mazes/mazes5/train/6864030122921805341.txt',\n",
       "               './src/environment/mazes/mazes5/train/2466636968115311999.txt',\n",
       "               './src/environment/mazes/mazes5/train/-5688349382502040664.txt',\n",
       "               './src/environment/mazes/mazes5/train/8008760968165320441.txt',\n",
       "               './src/environment/mazes/mazes5/train/-3333039200569036899.txt',\n",
       "               './src/environment/mazes/mazes5/train/-9021607637894887825.txt',\n",
       "               './src/environment/mazes/mazes5/train/6286058217355031741.txt',\n",
       "               './src/environment/mazes/mazes5/train/-759275135848675894.txt',\n",
       "               './src/environment/mazes/mazes5/train/2372792235292342524.txt',\n",
       "               './src/environment/mazes/mazes5/train/-4080924512232543158.txt',\n",
       "               './src/environment/mazes/mazes5/train/6566995975339110163.txt',\n",
       "               './src/environment/mazes/mazes5/train/-1026113910879439654.txt',\n",
       "               './src/environment/mazes/mazes5/train/4256930295712390766.txt',\n",
       "               './src/environment/mazes/mazes5/train/1043864991016342359.txt',\n",
       "               './src/environment/mazes/mazes5/train/6303342605977629657.txt',\n",
       "               './src/environment/mazes/mazes5/train/-79801452470418448.txt',\n",
       "               './src/environment/mazes/mazes5/train/5643164442479219724.txt',\n",
       "               './src/environment/mazes/mazes5/train/-8371904666450192774.txt',\n",
       "               './src/environment/mazes/mazes5/train/3263084514074656887.txt',\n",
       "               './src/environment/mazes/mazes5/train/-7901893191061243617.txt',\n",
       "               './src/environment/mazes/mazes5/train/-5366242351475924741.txt',\n",
       "               './src/environment/mazes/mazes5/train/3751614046971751871.txt',\n",
       "               './src/environment/mazes/mazes5/train/-7946926798582665831.txt',\n",
       "               './src/environment/mazes/mazes5/train/-1810493541775325207.txt',\n",
       "               './src/environment/mazes/mazes5/train/-5417678249256623277.txt',\n",
       "               './src/environment/mazes/mazes5/train/-4764769012823951032.txt',\n",
       "               './src/environment/mazes/mazes5/train/2448258154359979712.txt',\n",
       "               './src/environment/mazes/mazes5/train/7713691417454127938.txt',\n",
       "               './src/environment/mazes/mazes5/train/-2253762784523887887.txt',\n",
       "               './src/environment/mazes/mazes5/train/-8026129135643816453.txt',\n",
       "               './src/environment/mazes/mazes5/train/1176616352074465104.txt',\n",
       "               './src/environment/mazes/mazes5/train/2412591123249350748.txt',\n",
       "               './src/environment/mazes/mazes5/train/4752515300138580607.txt',\n",
       "               './src/environment/mazes/mazes5/train/-7639964859969344596.txt',\n",
       "               './src/environment/mazes/mazes5/train/7240819179608483624.txt',\n",
       "               './src/environment/mazes/mazes5/train/3834939378004178980.txt',\n",
       "               './src/environment/mazes/mazes5/train/3463811813797929531.txt',\n",
       "               './src/environment/mazes/mazes5/train/-7020685688360669204.txt',\n",
       "               './src/environment/mazes/mazes5/train/-2680115959791810637.txt',\n",
       "               './src/environment/mazes/mazes5/train/-8274861693548201388.txt',\n",
       "               './src/environment/mazes/mazes5/train/-5254854722841776080.txt',\n",
       "               './src/environment/mazes/mazes5/train/279305695064175600.txt',\n",
       "               './src/environment/mazes/mazes5/train/-4783300997357698161.txt',\n",
       "               './src/environment/mazes/mazes5/train/-8412950372250327019.txt',\n",
       "               './src/environment/mazes/mazes5/train/7427077152248520786.txt',\n",
       "               './src/environment/mazes/mazes5/train/6046290156526233022.txt',\n",
       "               './src/environment/mazes/mazes5/train/8113738662432200963.txt',\n",
       "               './src/environment/mazes/mazes5/train/1602602354438477652.txt',\n",
       "               './src/environment/mazes/mazes5/train/-2103285767982708232.txt',\n",
       "               './src/environment/mazes/mazes5/train/2974195825319796052.txt',\n",
       "               './src/environment/mazes/mazes5/train/-7996708433921448803.txt',\n",
       "               './src/environment/mazes/mazes5/train/-3534909351306022777.txt',\n",
       "               './src/environment/mazes/mazes5/train/600040015511603186.txt',\n",
       "               './src/environment/mazes/mazes5/train/-2552721601630046013.txt',\n",
       "               './src/environment/mazes/mazes5/train/106096450017538858.txt',\n",
       "               './src/environment/mazes/mazes5/train/-34524278920563381.txt',\n",
       "               './src/environment/mazes/mazes5/train/-7636271143309239958.txt',\n",
       "               './src/environment/mazes/mazes5/train/6550464653803754763.txt',\n",
       "               './src/environment/mazes/mazes5/train/-3160461352413534027.txt',\n",
       "               './src/environment/mazes/mazes5/train/-5398096114647551695.txt',\n",
       "               './src/environment/mazes/mazes5/train/2188474275648900766.txt',\n",
       "               './src/environment/mazes/mazes5/train/-5646601993651766845.txt',\n",
       "               './src/environment/mazes/mazes5/train/6022906516602663095.txt',\n",
       "               './src/environment/mazes/mazes5/train/854755322659731085.txt'],\n",
       "              'eval': ['./src/environment/mazes/mazes5/eval/-7476720968185065103.txt',\n",
       "               './src/environment/mazes/mazes5/eval/-8211499597064120230.txt',\n",
       "               './src/environment/mazes/mazes5/eval/-6631179603656073622.txt',\n",
       "               './src/environment/mazes/mazes5/eval/7383378684313631944.txt',\n",
       "               './src/environment/mazes/mazes5/eval/-9115002010401811178.txt',\n",
       "               './src/environment/mazes/mazes5/eval/-494119388140148471.txt',\n",
       "               './src/environment/mazes/mazes5/eval/-1700960892179521921.txt',\n",
       "               './src/environment/mazes/mazes5/eval/176730241957249462.txt',\n",
       "               './src/environment/mazes/mazes5/eval/-3898916166169490102.txt',\n",
       "               './src/environment/mazes/mazes5/eval/5459351381145982173.txt',\n",
       "               './src/environment/mazes/mazes5/eval/-1908309414215244843.txt',\n",
       "               './src/environment/mazes/mazes5/eval/98184187347062480.txt',\n",
       "               './src/environment/mazes/mazes5/eval/-3471732386427983732.txt',\n",
       "               './src/environment/mazes/mazes5/eval/-3730386866486107415.txt',\n",
       "               './src/environment/mazes/mazes5/eval/-8725014449107949284.txt',\n",
       "               './src/environment/mazes/mazes5/eval/-5590948505292524320.txt',\n",
       "               './src/environment/mazes/mazes5/eval/3557251499899203309.txt',\n",
       "               './src/environment/mazes/mazes5/eval/-7546699870903099376.txt',\n",
       "               './src/environment/mazes/mazes5/eval/4445186782854151370.txt',\n",
       "               './src/environment/mazes/mazes5/eval/-3461127403629025478.txt',\n",
       "               './src/environment/mazes/mazes5/eval/-3848981448323203534.txt',\n",
       "               './src/environment/mazes/mazes5/eval/-8236828483844575246.txt',\n",
       "               './src/environment/mazes/mazes5/eval/6650945726939359370.txt',\n",
       "               './src/environment/mazes/mazes5/eval/5588338120162703524.txt',\n",
       "               './src/environment/mazes/mazes5/eval/-496484261979328336.txt',\n",
       "               './src/environment/mazes/mazes5/eval/6979190515652113813.txt',\n",
       "               './src/environment/mazes/mazes5/eval/5415240723892962488.txt',\n",
       "               './src/environment/mazes/mazes5/eval/-4998242278451476033.txt',\n",
       "               './src/environment/mazes/mazes5/eval/3090624859511701377.txt',\n",
       "               './src/environment/mazes/mazes5/eval/-813931956192332934.txt',\n",
       "               './src/environment/mazes/mazes5/eval/-5103405496353236587.txt']}))"
      ]
     },
     "execution_count": 8,
     "metadata": {},
     "output_type": "execute_result"
    }
   ],
   "source": [
    "bc.load(path=\"./tmp/bc/Maze-att/\", name=\"50\")\n",
    "bc.policy.eval()\n",
    "metrics = defaultdict(int)\n",
    "solutions = defaultdict(list)\n",
    "\n",
    "with torch.no_grad():\n",
    "    for maze_type in [\"train\", \"eval\"]:\n",
    "        path = f\"{maze_paths}/{maze_type}\"\n",
    "        structures = [join(path, f) for f in listdir(path) if isfile(join(path, f))]\n",
    "    \n",
    "        average_reward = []\n",
    "        success_rate = []\n",
    "    \n",
    "        structures = tqdm(structures, desc=f\"eval with {maze_type}\")\n",
    "        for structure in structures:\n",
    "            env = gym.make(\"Maze-v0\", **maze_settings)\n",
    "            done = False\n",
    "    \n",
    "            try:\n",
    "                obs = env.load(structure)\n",
    "                accumulated_reward = 0\n",
    "                early_stop_count = defaultdict(int)\n",
    "                while not done:\n",
    "                    obs = transform(obs)\n",
    "                    action = torch.argmax(bc.forward(obs[None]), dim=1).squeeze().item()\n",
    "                    obs, reward, done, _ = env.step(action)\n",
    "                    accumulated_reward += reward\n",
    "                    early_stop_count[tuple(obs.flatten().tolist())] += 1\n",
    "    \n",
    "                    if np.max(list(early_stop_count.values())) >= 5:\n",
    "                        step_reward = -.1 / (env.shape[0] * env.shape[1])\n",
    "                        lower_reward = env.max_episode_steps * step_reward\n",
    "                        accumulated_reward = lower_reward\n",
    "                        break\n",
    "    \n",
    "                if done:\n",
    "                    solutions[maze_type].append(structure)\n",
    "    \n",
    "            finally:\n",
    "                env.close()\n",
    "    \n",
    "            success_rate.append(1 if done else 0)\n",
    "            average_reward.append(accumulated_reward)\n",
    "        metrics[f\"{maze_type} aer\"] = np.mean(average_reward)\n",
    "        metrics[f\"{maze_type} aer (std)\"] = np.std(average_reward)\n",
    "        metrics[f\"{maze_type} sr\"] = np.mean(success_rate)\n",
    "metrics[\"aer\"] = metrics[\"train sr\"]\n",
    "metrics, solutions"
   ]
  },
  {
   "cell_type": "code",
   "execution_count": 10,
   "id": "4023bdf9-96bf-45f4-8c92-15b02efdf2a0",
   "metadata": {},
   "outputs": [],
   "source": [
    "env.close()"
   ]
  },
  {
   "cell_type": "code",
   "execution_count": null,
   "id": "91907e7d-5a51-4193-a648-96621b921100",
   "metadata": {},
   "outputs": [],
   "source": []
  },
  {
   "cell_type": "code",
   "execution_count": null,
   "id": "11dfe052-4bb3-48b5-9dee-2b205bc0ccc6",
   "metadata": {},
   "outputs": [],
   "source": []
  }
 ],
 "metadata": {
  "kernelspec": {
   "display_name": "Python 3 (ipykernel)",
   "language": "python",
   "name": "python3"
  },
  "language_info": {
   "codemirror_mode": {
    "name": "ipython",
    "version": 3
   },
   "file_extension": ".py",
   "mimetype": "text/x-python",
   "name": "python",
   "nbconvert_exporter": "python",
   "pygments_lexer": "ipython3",
   "version": "3.10.11"
  }
 },
 "nbformat": 4,
 "nbformat_minor": 5
}
